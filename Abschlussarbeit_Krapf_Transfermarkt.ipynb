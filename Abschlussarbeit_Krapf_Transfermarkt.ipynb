{
 "cells": [
  {
   "cell_type": "code",
   "execution_count": 4,
   "id": "2eb7f935",
   "metadata": {},
   "outputs": [],
   "source": [
    "from selenium import webdriver\n",
    "from selenium.webdriver.common.keys import Keys\n",
    "from selenium.webdriver.common.by import By\n",
    "from selenium.webdriver.support.ui import Select\n",
    "import time\n",
    "import requests\n",
    "import pandas as pd\n",
    "from bs4 import BeautifulSoup\n",
    "import time"
   ]
  },
  {
   "cell_type": "code",
   "execution_count": 5,
   "id": "c042628e",
   "metadata": {},
   "outputs": [],
   "source": [
    "driver = webdriver.Firefox()\n"
   ]
  },
  {
   "cell_type": "code",
   "execution_count": 6,
   "id": "89db0fa7",
   "metadata": {},
   "outputs": [],
   "source": [
    "driver.get(\"https://www.transfermarkt.ch/bundesliga/marktwerte/wettbewerb/L1/\")"
   ]
  },
  {
   "cell_type": "code",
   "execution_count": 7,
   "id": "c72ff44f",
   "metadata": {},
   "outputs": [],
   "source": [
    "#Die Links zu den 100 Profilen der wertvollsten Spieler aus der Bundesliga \n",
    "bundesliga = []\n",
    "for elem in range(1,5):\n",
    "    time.sleep(2)\n",
    "    driver.get(\"https://www.transfermarkt.ch/bundesliga/marktwerte/wettbewerb/L1/page/\"+str(elem))\n",
    "    #Das ist der ganze HTML-Code\n",
    "    txt = driver.page_source\n",
    "    \n",
    "    soup = BeautifulSoup(txt,\"html.parser\")\n",
    "    \n",
    "    for elem in soup.select('.large-8 .hauptlink'):\n",
    "        try:\n",
    "            bundesliga.append(elem.find('a')['href'])\n",
    "        except:\n",
    "            continue\n",
    "        "
   ]
  },
  {
   "cell_type": "code",
   "execution_count": 8,
   "id": "5fe120bc",
   "metadata": {},
   "outputs": [],
   "source": [
    "#Daten putzen, den Link zur Marktwertentwicklung brauche ich nicht. \n",
    "bundesliga = [link for link in filter(lambda link: not(\"marktwertverlauf\" in link), bundesliga)]"
   ]
  },
  {
   "cell_type": "code",
   "execution_count": 9,
   "id": "0efa0494",
   "metadata": {},
   "outputs": [
    {
     "data": {
      "text/plain": [
       "100"
      ]
     },
     "execution_count": 9,
     "metadata": {},
     "output_type": "execute_result"
    }
   ],
   "source": [
    "len(bundesliga)"
   ]
  },
  {
   "cell_type": "code",
   "execution_count": 10,
   "id": "cf3ec620",
   "metadata": {},
   "outputs": [],
   "source": [
    "#Dasselbe für die Premier League\n",
    "premierleague = []\n",
    "\n",
    "for elem in range(1,5):\n",
    "    time.sleep(2)\n",
    "    driver.get(\"https://www.transfermarkt.ch/premier-league/marktwerte/wettbewerb/GB1/page/\"+str(elem))\n",
    "    #Das ist der ganze HTML-Code\n",
    "    txt = driver.page_source\n",
    "    \n",
    "    soup = BeautifulSoup(txt,\"html.parser\")\n",
    "    \n",
    "    for elem in soup.select('.large-8 .hauptlink'):\n",
    "        try:\n",
    "            premierleague.append(elem.find('a')['href'])\n",
    "        except:\n",
    "            continue"
   ]
  },
  {
   "cell_type": "code",
   "execution_count": 11,
   "id": "d45dfba3",
   "metadata": {},
   "outputs": [],
   "source": [
    "#Doppelte raus\n",
    "premierleague = [link for link in filter(lambda link: not(\"marktwertverlauf\" in link), premierleague)]\n"
   ]
  },
  {
   "cell_type": "code",
   "execution_count": 12,
   "id": "59069038",
   "metadata": {},
   "outputs": [
    {
     "data": {
      "text/plain": [
       "100"
      ]
     },
     "execution_count": 12,
     "metadata": {},
     "output_type": "execute_result"
    }
   ],
   "source": [
    "len(premierleague)"
   ]
  },
  {
   "cell_type": "code",
   "execution_count": 13,
   "id": "66da8f7c",
   "metadata": {},
   "outputs": [],
   "source": [
    "#Forza Italia\n",
    "seriea = []\n",
    "for elem in range(1,5):\n",
    "    time.sleep(2)\n",
    "    driver.get(\"https://www.transfermarkt.ch/seriea/marktwerte/wettbewerb/IT1/page/\"+str(elem))\n",
    "    #Das ist der ganze HTML-Code\n",
    "    txt = driver.page_source\n",
    "    \n",
    "    soup = BeautifulSoup(txt,\"html.parser\")\n",
    "    \n",
    "    for elem in soup.select('.large-8 .hauptlink'):\n",
    "        try:\n",
    "            seriea.append(elem.find('a')['href'])\n",
    "        except:\n",
    "            continue"
   ]
  },
  {
   "cell_type": "code",
   "execution_count": 14,
   "id": "2f155d54",
   "metadata": {},
   "outputs": [],
   "source": [
    "#Doppelte raus\n",
    "seriea = [link for link in filter(lambda link: not(\"marktwertverlauf\" in link), seriea)]\n"
   ]
  },
  {
   "cell_type": "code",
   "execution_count": 15,
   "id": "bf695260",
   "metadata": {},
   "outputs": [
    {
     "data": {
      "text/plain": [
       "100"
      ]
     },
     "execution_count": 15,
     "metadata": {},
     "output_type": "execute_result"
    }
   ],
   "source": [
    "len(seriea)"
   ]
  },
  {
   "cell_type": "code",
   "execution_count": 16,
   "id": "f1b6249d",
   "metadata": {},
   "outputs": [],
   "source": [
    "#Viva España \n",
    "laliga = []\n",
    "for elem in range(1,5):\n",
    "    time.sleep(2)\n",
    "    driver.get(\"https://www.transfermarkt.ch/laliga/marktwerte/wettbewerb/ES1/page/\"+str(elem))\n",
    "    #Das ist der ganze HTML-Code\n",
    "    txt = driver.page_source\n",
    "    \n",
    "    soup = BeautifulSoup(txt,\"html.parser\")\n",
    "    \n",
    "    for elem in soup.select('.large-8 .hauptlink'):\n",
    "        try:\n",
    "            laliga.append(elem.find('a')['href'])\n",
    "        except:\n",
    "            continue"
   ]
  },
  {
   "cell_type": "code",
   "execution_count": 17,
   "id": "59909003",
   "metadata": {},
   "outputs": [],
   "source": [
    "#Doppelte raus\n",
    "laliga = [link for link in filter(lambda link: not(\"marktwertverlauf\" in link), laliga)]\n"
   ]
  },
  {
   "cell_type": "code",
   "execution_count": 18,
   "id": "2900a2d2",
   "metadata": {},
   "outputs": [
    {
     "data": {
      "text/plain": [
       "100"
      ]
     },
     "execution_count": 18,
     "metadata": {},
     "output_type": "execute_result"
    }
   ],
   "source": [
    "len(laliga)"
   ]
  },
  {
   "cell_type": "code",
   "execution_count": 19,
   "id": "33902e23",
   "metadata": {},
   "outputs": [],
   "source": [
    "#Vive la France\n",
    "ligue1 = []\n",
    "for elem in range(1,5):\n",
    "    time.sleep(2)\n",
    "    driver.get(\"https://www.transfermarkt.ch/ligue1/marktwerte/wettbewerb/FR1/page/\"+str(elem))\n",
    "    #Das ist der ganze HTML-Code\n",
    "    txt = driver.page_source\n",
    "    \n",
    "    soup = BeautifulSoup(txt,\"html.parser\")\n",
    "    \n",
    "    for elem in soup.select('.large-8 .hauptlink'):\n",
    "        try:\n",
    "            ligue1.append(elem.find('a')['href'])\n",
    "        except:\n",
    "            continue"
   ]
  },
  {
   "cell_type": "code",
   "execution_count": 20,
   "id": "543d9a59",
   "metadata": {},
   "outputs": [],
   "source": [
    "#Doppelte raus\n",
    "ligue1 = [link for link in filter(lambda link: not(\"marktwertverlauf\" in link), ligue1)]"
   ]
  },
  {
   "cell_type": "code",
   "execution_count": 21,
   "id": "986ee138",
   "metadata": {},
   "outputs": [
    {
     "data": {
      "text/plain": [
       "100"
      ]
     },
     "execution_count": 21,
     "metadata": {},
     "output_type": "execute_result"
    }
   ],
   "source": [
    "len(ligue1)"
   ]
  },
  {
   "cell_type": "code",
   "execution_count": 22,
   "id": "481944ae",
   "metadata": {},
   "outputs": [],
   "source": [
    "#Listen erstellen mit den direkten Links zu den Profilen \n",
    "bundesliga_links = []\n",
    "for elem in bundesliga:\n",
    "    elem2 = \"https://www.transfermarkt.ch\"+elem\n",
    "    bundesliga_links.append(elem2)\n",
    "\n",
    "\n",
    "\n"
   ]
  },
  {
   "cell_type": "code",
   "execution_count": 23,
   "id": "581e50c6",
   "metadata": {},
   "outputs": [],
   "source": [
    "premierleague_links = []\n",
    "for elem in premierleague:\n",
    "    elem2 = \"https://www.transfermarkt.ch\"+elem\n",
    "    premierleague_links.append(elem2)"
   ]
  },
  {
   "cell_type": "code",
   "execution_count": 24,
   "id": "d33eae63",
   "metadata": {},
   "outputs": [],
   "source": [
    "seriea_links = []\n",
    "for elem in seriea:\n",
    "    elem2 = \"https://www.transfermarkt.ch\"+elem\n",
    "    seriea_links.append(elem2)"
   ]
  },
  {
   "cell_type": "code",
   "execution_count": 25,
   "id": "83d1a6bb",
   "metadata": {},
   "outputs": [],
   "source": [
    "laliga_links = []\n",
    "for elem in laliga:\n",
    "    elem2 = \"https://www.transfermarkt.ch\"+elem\n",
    "    laliga_links.append(elem2)"
   ]
  },
  {
   "cell_type": "code",
   "execution_count": 26,
   "id": "8b9110af",
   "metadata": {},
   "outputs": [],
   "source": [
    "ligue1_links = []\n",
    "for elem in ligue1:\n",
    "    elem2 = \"https://www.transfermarkt.ch\"+elem\n",
    "    ligue1_links.append(elem2)"
   ]
  },
  {
   "cell_type": "code",
   "execution_count": 27,
   "id": "21e658fd",
   "metadata": {},
   "outputs": [
    {
     "data": {
      "text/plain": [
       "100"
      ]
     },
     "execution_count": 27,
     "metadata": {},
     "output_type": "execute_result"
    }
   ],
   "source": [
    "len(bundesliga_links)"
   ]
  },
  {
   "cell_type": "code",
   "execution_count": 28,
   "id": "43c77594",
   "metadata": {},
   "outputs": [],
   "source": [
    "#Eine Liste mit allen Links zu den Spielerprofilen erstellen, damit wir danach jedes Profil besuchen können und die Infos herunterladen. \n",
    "Top_Spieler = bundesliga_links + premierleague_links + laliga_links + seriea_links + ligue1_links"
   ]
  },
  {
   "cell_type": "code",
   "execution_count": 29,
   "id": "9617dade",
   "metadata": {},
   "outputs": [
    {
     "data": {
      "text/plain": [
       "500"
      ]
     },
     "execution_count": 29,
     "metadata": {},
     "output_type": "execute_result"
    }
   ],
   "source": [
    "len(Top_Spieler)"
   ]
  },
  {
   "cell_type": "code",
   "execution_count": 31,
   "id": "09581e1d",
   "metadata": {
    "scrolled": true
   },
   "outputs": [],
   "source": [
    "#Jetzt jedes Profil besuchen - wir wollen: Name, Marktwert, Spielerberater. Daraus ein Dictionary basteln lassen. \n",
    "Finale_Liste = []\n",
    "\n",
    "for link in Top_Spieler:\n",
    "    time.sleep(2)\n",
    "    driver.get(link)\n",
    "    txt = driver.page_source\n",
    "    \n",
    "    soup = BeautifulSoup(txt,\"html.parser\")\n",
    "    #den Namen des Spielers herausziehen\n",
    "    namen = soup.find('span', {'class':'info-table__content info-table__content--bold'}).text\n",
    "    wert = soup.find('div', {'class':'tm-player-market-value-development__current-value'}).text\n",
    "    wert = wert.replace(\"\\n                \", \"\").replace(\" Mio. €                \", \"\")\n",
    "    dieAs = soup.select(\".info-table__content.info-table__content--bold.info-table__content--flex a\")\n",
    "    dieAs\n",
    "\n",
    "    agent = None\n",
    "    for a in dieAs:\n",
    "        if(\"berater\" in a['href']):\n",
    "            agent = a.text\n",
    "    Finale_Liste.append({\"name\": namen, \"wert\": wert, \"agent\": agent})\n"
   ]
  },
  {
   "cell_type": "code",
   "execution_count": 34,
   "id": "4d391a96",
   "metadata": {},
   "outputs": [],
   "source": [
    "#Das ganze wird ein Dataframe und speichern als CSV.\n",
    "df = pd.DataFrame(Finale_Liste)"
   ]
  },
  {
   "cell_type": "code",
   "execution_count": 35,
   "id": "b77f8094",
   "metadata": {},
   "outputs": [],
   "source": [
    "df.to_csv(\"Finale_Liste\")"
   ]
  }
 ],
 "metadata": {
  "kernelspec": {
   "display_name": "Python 3 (ipykernel)",
   "language": "python",
   "name": "python3"
  },
  "language_info": {
   "codemirror_mode": {
    "name": "ipython",
    "version": 3
   },
   "file_extension": ".py",
   "mimetype": "text/x-python",
   "name": "python",
   "nbconvert_exporter": "python",
   "pygments_lexer": "ipython3",
   "version": "3.9.12"
  }
 },
 "nbformat": 4,
 "nbformat_minor": 5
}
